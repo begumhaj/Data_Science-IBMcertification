{
 "cells": [
  {
   "cell_type": "markdown",
   "metadata": {},
   "source": [
    "# Set+2_Normal+ distributions + Functions"
   ]
  },
  {
   "cell_type": "markdown",
   "metadata": {},
   "source": [
    "## Question 1\n",
    "The time required for servicing transmissions is normally distributed with  = 45 minutes and  = 8 minutes. The service manager plans to have work begin on the transmission of a customer’s car 10 minutes after the car is dropped off and the customer is told that the car will be ready within 1 hour from drop-off. What is the probability that the service manager cannot meet his commitment? "
   ]
  },
  {
   "cell_type": "code",
   "execution_count": 19,
   "metadata": {},
   "outputs": [],
   "source": [
    "from scipy import stats\n",
    "import numpy as np"
   ]
  },
  {
   "cell_type": "markdown",
   "metadata": {},
   "source": [
    "###  P(x>50) =1-P(x<=50) "
   ]
  },
  {
   "cell_type": "code",
   "execution_count": 12,
   "metadata": {},
   "outputs": [],
   "source": [
    "# P(x<=50)\n",
    "cdf=stats.norm.cdf(50,45,8)"
   ]
  },
  {
   "cell_type": "code",
   "execution_count": 13,
   "metadata": {},
   "outputs": [
    {
     "data": {
      "text/plain": [
       "0.26598552904870054"
      ]
     },
     "execution_count": 13,
     "metadata": {},
     "output_type": "execute_result"
    }
   ],
   "source": [
    "# P(x>50)\n",
    "1-cdf"
   ]
  },
  {
   "cell_type": "markdown",
   "metadata": {},
   "source": [
    "## Question-5\n",
    "\n",
    "Consider a company that has two different divisions. The annual profits from the two divisions are independent and have distributions Profit1 ~ N (5, 32) and Profit2 ~ N (7, 42) respectively. Both the profits are in Million dollars. Answer the following questions about the total profit of the company in Rupees. Assume that $1 = Rs. 45\n",
    "+ a).Specify a Rupee range (centered on the mean) such that it contains 95% probability for the annual profit of the company.\n",
    "\n",
    "\n"
   ]
  },
  {
   "cell_type": "markdown",
   "metadata": {},
   "source": [
    "###  The distribution of sampled means(random variable) is obtained by plotting the means of two samples (divisions)\n",
    "\n"
   ]
  },
  {
   "cell_type": "code",
   "execution_count": 18,
   "metadata": {},
   "outputs": [
    {
     "name": "stdout",
     "output_type": "stream",
     "text": [
      "combined mean of samples is  540 million rupees\n"
     ]
    }
   ],
   "source": [
    "#Mean of the sampled distribution\n",
    "combined_mean=(5+7)*45\n",
    "print(\"combined mean of samples is \",combined_mean , \"million rupees\")"
   ]
  },
  {
   "cell_type": "code",
   "execution_count": 20,
   "metadata": {},
   "outputs": [
    {
     "name": "stdout",
     "output_type": "stream",
     "text": [
      "combined std of samples is  225.0 million rupees\n"
     ]
    }
   ],
   "source": [
    "# Standard deviation of the sampled distribution\n",
    "combined_std=np.sqrt(9+16)*45\n",
    "print(\"combined std of samples is \",combined_std , \"million rupees\")"
   ]
  },
  {
   "cell_type": "code",
   "execution_count": 24,
   "metadata": {},
   "outputs": [
    {
     "name": "stdout",
     "output_type": "stream",
     "text": [
      "Range is  (99.00810347848784, 980.9918965215122)\n"
     ]
    }
   ],
   "source": [
    "# confidence interval\n",
    "print(\"Range is \",stats.norm.interval(0.95,540,225))"
   ]
  },
  {
   "cell_type": "markdown",
   "metadata": {},
   "source": [
    "## Question 5\n",
    "b).Specify the 5th percentile of profit (in Rupees) for the company"
   ]
  },
  {
   "cell_type": "code",
   "execution_count": 26,
   "metadata": {},
   "outputs": [
    {
     "data": {
      "text/plain": [
       "-1.6448536269514729"
      ]
     },
     "execution_count": 26,
     "metadata": {},
     "output_type": "execute_result"
    }
   ],
   "source": [
    "#calculate z-score at 5th percentile\n",
    "\n",
    "stats.norm.ppf(0.05)"
   ]
  },
  {
   "attachments": {
    "image.png": {
     "image/png": "[encoded data removed]"
    }
   },
   "cell_type": "markdown",
   "metadata": {},
   "source": [
    "![image.png](attachment:image.png)"
   ]
  },
  {
   "cell_type": "code",
   "execution_count": 27,
   "metadata": {},
   "outputs": [],
   "source": [
    "#calculate the profit at that z-score\n",
    "profit=-1.644* 225+540\n"
   ]
  },
  {
   "cell_type": "code",
   "execution_count": 29,
   "metadata": {},
   "outputs": [
    {
     "name": "stdout",
     "output_type": "stream",
     "text": [
      "5th percentile of profit 170.10000000000002 million rupees\n"
     ]
    }
   ],
   "source": [
    "print(\"5th percentile of profit\",profit,\"million rupees\")"
   ]
  },
  {
   "cell_type": "markdown",
   "metadata": {},
   "source": [
    "## Question 5\n",
    "c). Which of the two divisions has a larger probability of making a loss in a given year?"
   ]
  },
  {
   "cell_type": "code",
   "execution_count": 33,
   "metadata": {},
   "outputs": [
    {
     "name": "stdout",
     "output_type": "stream",
     "text": [
      "Probability of Division 1 making a loss 0.0478\n"
     ]
    }
   ],
   "source": [
    "# Probability of Division 1 making a loss P(X<0)\n",
    "p1=stats.norm.cdf(0,5,3)\n",
    "print(\"Probability of Division 1 making a loss\",np.round(p1,4))"
   ]
  },
  {
   "cell_type": "code",
   "execution_count": 35,
   "metadata": {},
   "outputs": [
    {
     "name": "stdout",
     "output_type": "stream",
     "text": [
      "Probability of Division 2 making a loss 0.0401\n"
     ]
    }
   ],
   "source": [
    "# Probability of Division 2 making a loss P(X<0)\n",
    "p2=stats.norm.cdf(0,7,4)\n",
    "print(\"Probability of Division 2 making a loss\",np.round(p2,4))"
   ]
  },
  {
   "cell_type": "markdown",
   "metadata": {},
   "source": [
    " Inferences:\n",
    "+ the probability of making a loss in a year is high for Division 1 when compared to Division 2\n",
    "    "
   ]
  },
  {
   "cell_type": "markdown",
   "metadata": {},
   "source": [
    "# Set+ 3"
   ]
  },
  {
   "cell_type": "markdown",
   "metadata": {},
   "source": [
    "## Set3-Q5 (Basic Statistic Level-2)\n",
    "Q5. In January 2005, a company that monitors Internet traffic (WebSideStory) reported that its sampling revealed that the Mozilla Firefox browser launched in 2004 had grabbed a 4.6% share of the market. I. If the sample were based on 2,000 users, could Microsoft conclude that Mozilla has a less than 5% share of the market? II. WebSideStory claims that its sample includes all the daily Internet users. If that’s the case, then can Microsoft conclude that Mozilla has a less than 5% share of the market?"
   ]
  },
  {
   "cell_type": "code",
   "execution_count": 2,
   "metadata": {},
   "outputs": [],
   "source": [
    "import numpy as np\n",
    "import statsmodels.api as sm\n",
    "import scipy.stats as stats"
   ]
  },
  {
   "cell_type": "code",
   "execution_count": 3,
   "metadata": {},
   "outputs": [],
   "source": [
    "n = 2000\n",
    "pnull = .05\n",
    "phat = 0.046"
   ]
  },
  {
   "cell_type": "code",
   "execution_count": 5,
   "metadata": {},
   "outputs": [
    {
     "data": {
      "text/plain": [
       "(-0.8539292422983582, 0.19657209793658192)"
      ]
     },
     "execution_count": 5,
     "metadata": {},
     "output_type": "execute_result"
    }
   ],
   "source": [
    "sm.stats.proportions_ztest(phat * n, n, pnull, alternative='smaller')"
   ]
  },
  {
   "cell_type": "markdown",
   "metadata": {},
   "source": [
    "Conclusion of the hypothesis test\n",
    "\n",
    "As (p_value = 0.1965) > (α = 0.05) ; Accept Null Hypothesis i.e. Mozilla market share > 5% Thus, Microsoft can not conclude that Mozilla has a less than 5% share of the marketII. "
   ]
  },
  {
   "cell_type": "markdown",
   "metadata": {},
   "source": [
    "## Question 5 .II.\n",
    "WebSideStory claims that its sample includes all the daily Internet users. If that’s the case, then can Microsoft conclude that Mozilla has a less than 5% share of the market?\n",
    "\n",
    "We are given that WebSideStory claims that its sample includes all the daily Internet users. This means that the 4.6% is the population percentage. Comparing it with Microsoft's claim that Mozilla has a less than 5% share of the whole market is True. Hence, we can conclude that Mozilla has a less than 5% share of the market."
   ]
  },
  {
   "cell_type": "markdown",
   "metadata": {},
   "source": [
    "# Set+ 4"
   ]
  },
  {
   "cell_type": "markdown",
   "metadata": {},
   "source": [
    "## Question-3\n",
    "Auditors at a small community bank randomly sample 100 withdrawal transactions made during the week at an ATM machine located near the bank’s main branch. Over the past 2 years, the average withdrawal amount has been dollars 50 with a standard deviation of dollars 40. Since audit investigations are typically expensive, the auditors decide to not initiate further investigations if the mean transaction amount of the sample is between $45 and $55. What is the probability that in any given week, there will be an investigation?"
   ]
  },
  {
   "cell_type": "markdown",
   "metadata": {},
   "source": [
    "Given that\n",
    "+ n=100\n",
    "+ mean= 50 dollars\n",
    "+  pop deviation=40/sqrt(100) dollars\n",
    "\n"
   ]
  },
  {
   "cell_type": "code",
   "execution_count": 30,
   "metadata": {},
   "outputs": [
    {
     "name": "stdout",
     "output_type": "stream",
     "text": [
      "probability that mean transaction amount of the sample is between 45 and 55 0.7887004526662893\n"
     ]
    }
   ],
   "source": [
    "# find the p(45<x<55)\n",
    "p=stats.norm.cdf(55,50,40/np.sqrt(100))-stats.norm.cdf(45,50,40/np.sqrt(100))\n",
    "print(\"probability that mean transaction amount of the sample is between 45 and 55\",p)"
   ]
  },
  {
   "cell_type": "code",
   "execution_count": 33,
   "metadata": {},
   "outputs": [
    {
     "name": "stdout",
     "output_type": "stream",
     "text": [
      "Probability that in any given week ,there will be an investigation is 0.2112995473337107\n"
     ]
    }
   ],
   "source": [
    "print(\"Probability that in any given week ,there will be an investigation is\",1-p)"
   ]
  },
  {
   "cell_type": "markdown",
   "metadata": {},
   "source": [
    "## question-4\n",
    "The auditors from the above example would like to maintain the probability of investigation to 5%. Which of the following represents the minimum number transactions that they should sample if they do not want to change the thresholds of 45 and 55? Assume that the sample statistics remain unchanged."
   ]
  },
  {
   "cell_type": "markdown",
   "metadata": {},
   "source": [
    "+ significance level=0.05=5%\n",
    "+ confidence level=1-significance level=0.95\n",
    "+ n=?\n",
    "+ sqrt(n)=(z-value) * std/x-µ"
   ]
  },
  {
   "cell_type": "code",
   "execution_count": 40,
   "metadata": {},
   "outputs": [
    {
     "data": {
      "text/plain": [
       "-1.9599639845400545"
      ]
     },
     "execution_count": 40,
     "metadata": {},
     "output_type": "execute_result"
    }
   ],
   "source": [
    "#calculate z-value @ alpha/2=0.025\n",
    "z=stats.norm.ppf(.025)\n",
    "z"
   ]
  },
  {
   "cell_type": "code",
   "execution_count": 45,
   "metadata": {},
   "outputs": [
    {
     "data": {
      "text/plain": [
       "-15.679711876320436"
      ]
     },
     "execution_count": 45,
     "metadata": {},
     "output_type": "execute_result"
    }
   ],
   "source": [
    "sqrt_n=(z*40/5)\n",
    "sqrt_n"
   ]
  },
  {
   "cell_type": "code",
   "execution_count": 53,
   "metadata": {},
   "outputs": [
    {
     "name": "stdout",
     "output_type": "stream",
     "text": [
      "the minimum number transactions that they should sample if they do not want to change the thresholds of 45 and 55 is 245.8534\n"
     ]
    }
   ],
   "source": [
    "n=sqrt_n**2\n",
    "print(\"the minimum number transactions that they should sample if they do not want to change the thresholds of 45 and 55 is\",np.round(n,4))"
   ]
  }
 ],
 "metadata": {
  "kernelspec": {
   "display_name": "Python 3",
   "language": "python",
   "name": "python3"
  },
  "language_info": {
   "codemirror_mode": {
    "name": "ipython",
    "version": 3
   },
   "file_extension": ".py",
   "mimetype": "text/x-python",
   "name": "python",
   "nbconvert_exporter": "python",
   "pygments_lexer": "ipython3",
   "version": "3.7.1"
  }
 },
 "nbformat": 4,
 "nbformat_minor": 2
}
